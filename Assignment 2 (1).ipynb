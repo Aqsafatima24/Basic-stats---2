{
 "cells": [
  {
   "cell_type": "markdown",
   "id": "df09a58e-8ea7-4cfc-984f-9d7fc4593e13",
   "metadata": {},
   "source": [
    "# Estimations and confidence intervals"
   ]
  },
  {
   "cell_type": "code",
   "execution_count": 2,
   "id": "8b97d748-6d03-4584-bb7f-d6b0383016fd",
   "metadata": {},
   "outputs": [],
   "source": [
    "from scipy import stats\n",
    "import pandas as pd\n",
    "import numpy as np"
   ]
  },
  {
   "cell_type": "code",
   "execution_count": 18,
   "id": "e01a4a08-4f10-4777-ac67-a36348578bcf",
   "metadata": {},
   "outputs": [],
   "source": [
    "set_df= [1.13, 1.55, 1.43, 0.92, 1.25, 1.36, 1.32, 0.85, 1.07, 1.48, 1.20, 1.33, 1.18, 1.22, 1.29]"
   ]
  },
  {
   "cell_type": "code",
   "execution_count": 25,
   "id": "03657a05-43e2-4b97-abc1-26ba88000edc",
   "metadata": {},
   "outputs": [
    {
     "name": "stdout",
     "output_type": "stream",
     "text": [
      "1.2386666666666666\n"
     ]
    }
   ],
   "source": [
    "mean_value = np.mean(set_df)\n",
    "print(mean_value)"
   ]
  },
  {
   "cell_type": "code",
   "execution_count": 27,
   "id": "5d06f6d4-637b-431b-808f-4e0820d4e818",
   "metadata": {},
   "outputs": [
    {
     "name": "stdout",
     "output_type": "stream",
     "text": [
      "0.18661427836285438\n"
     ]
    }
   ],
   "source": [
    "std_value = np.std(set_df)\n",
    "print(std_value)"
   ]
  },
  {
   "cell_type": "code",
   "execution_count": 51,
   "id": "e39bfcb3-8934-4222-b663-2122c5c084fd",
   "metadata": {},
   "outputs": [
    {
     "name": "stdout",
     "output_type": "stream",
     "text": [
      "0.010000000000000009\n",
      "14\n"
     ]
    }
   ],
   "source": [
    "confidence_level = 0.99\n",
    "n = 15\n",
    "alpha = 1- confidence_level\n",
    "df = n-1\n",
    "print(alpha)\n",
    "print(df)"
   ]
  },
  {
   "cell_type": "markdown",
   "id": "66f15703-95f7-4d92-a479-c20faa322fac",
   "metadata": {},
   "source": [
    "# Build 99% Confidence Interval Using Sample Standard Deviation"
   ]
  },
  {
   "cell_type": "code",
   "execution_count": 95,
   "id": "cc9ee014-8ca8-4768-931e-edcffb6d9ce8",
   "metadata": {},
   "outputs": [
    {
     "name": "stdout",
     "output_type": "stream",
     "text": [
      "at 99% confidence interval is : [0.75798 1.71935]\n"
     ]
    }
   ],
   "source": [
    "data = stats.norm.interval(0.99,\n",
    "                           loc= mean_value,\n",
    "                           scale= std_value)\n",
    "print('at 99% confidence interval is :', np.round(data,5))"
   ]
  },
  {
   "cell_type": "code",
   "execution_count": 103,
   "id": "2e6b53cb-a4b5-4b06-ba36-c5f1b17e2a0e",
   "metadata": {},
   "outputs": [
    {
     "data": {
      "text/plain": [
       "(1.2363277422990353, 1.2410055910342979)"
      ]
     },
     "execution_count": 103,
     "metadata": {},
     "output_type": "execute_result"
    }
   ],
   "source": [
    "stats.norm.interval(0.010000000000000009,1.2386666666666666,0.18661427836285438)"
   ]
  },
  {
   "cell_type": "code",
   "execution_count": 107,
   "id": "7159b5e4-f076-4a6c-9fe8-bdfeed084368",
   "metadata": {},
   "outputs": [
    {
     "data": {
      "text/plain": [
       "2.3263478740408408"
      ]
     },
     "execution_count": 107,
     "metadata": {},
     "output_type": "execute_result"
    }
   ],
   "source": [
    "stats.norm.ppf(0.99)"
   ]
  },
  {
   "cell_type": "markdown",
   "id": "53a36c46-ebae-42e7-90e2-6c9a0436c3af",
   "metadata": {},
   "source": [
    "# Build 99% Confidence Interval Using Known Population Standard Deviation"
   ]
  },
  {
   "cell_type": "code",
   "execution_count": 101,
   "id": "47c817ee-0785-4cb0-8780-67912bed6ebd",
   "metadata": {},
   "outputs": [
    {
     "name": "stdout",
     "output_type": "stream",
     "text": [
      "at 99% confidence interval is : [0.7235  1.75383]\n"
     ]
    }
   ],
   "source": [
    "data = stats.norm.interval(0.99,\n",
    "                           loc= mean_value,\n",
    "                           scale= 0.2)\n",
    "print('at 99% confidence interval is :', np.round(data,5))"
   ]
  },
  {
   "cell_type": "code",
   "execution_count": 105,
   "id": "7e0d21a1-7e3f-470d-a40c-e3464c158ce2",
   "metadata": {},
   "outputs": [
    {
     "data": {
      "text/plain": [
       "(1.2361599727650527, 1.2411733605682804)"
      ]
     },
     "execution_count": 105,
     "metadata": {},
     "output_type": "execute_result"
    }
   ],
   "source": [
    "stats.norm.interval(0.010000000000000009,1.2386666666666666,0.2)"
   ]
  }
 ],
 "metadata": {
  "kernelspec": {
   "display_name": "Python 3 (ipykernel)",
   "language": "python",
   "name": "python3"
  },
  "language_info": {
   "codemirror_mode": {
    "name": "ipython",
    "version": 3
   },
   "file_extension": ".py",
   "mimetype": "text/x-python",
   "name": "python",
   "nbconvert_exporter": "python",
   "pygments_lexer": "ipython3",
   "version": "3.12.4"
  }
 },
 "nbformat": 4,
 "nbformat_minor": 5
}
